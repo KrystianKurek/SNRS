{
 "cells": [
  {
   "cell_type": "code",
   "execution_count": 1,
   "metadata": {},
   "outputs": [],
   "source": [
    "import numpy as np\n",
    "from scipy import optimize\n",
    "import networkx as nx\n",
    "import matplotlib.pyplot as plt\n",
    "from collections import Counter\n",
    "from sklearn.linear_model import LinearRegression\n",
    "import pandas as pd\n",
    "import helpers\n",
    "import scipy\n",
    "import itertools"
   ]
  },
  {
   "cell_type": "markdown",
   "metadata": {},
   "source": [
    "### Ex. 1"
   ]
  },
  {
   "cell_type": "markdown",
   "metadata": {},
   "source": [
    "$$\\mathcal{L}[\\mathcal{P}(G)] = - \\sum_{G\\in M_N } \\mathcal{P}(G)ln\\mathcal{P}(G) + \\lambda\\mathcal{f}(\\mathcal{P}(G)) = - \\sum_{G\\in M_N } \\mathcal{P}(G)ln\\mathcal{P}(G) + \\lambda_1 \\bigl(\\sum_{G\\in M_N } \\mathcal{P}(G) -1 \\bigl) -\\lambda_2\\bigl(\\sum_{G\\in M_N } \\mathcal{P}(G)m(G) - m\\bigl) = $$"
   ]
  },
  {
   "cell_type": "markdown",
   "metadata": {},
   "source": [
    "$$\\frac{\\partial\\mathcal{ L}[\\mathcal{P}(G)]}{\\mathcal{P}(G)} = ln\\mathcal{P}(G) -1 + \\lambda_1 + \\lambda_2m(G)=0$$"
   ]
  },
  {
   "cell_type": "markdown",
   "metadata": {},
   "source": [
    "$$ln\\mathcal{P}(G) = \\lambda_1 -1 + \\lambda_2m(G)$$"
   ]
  },
  {
   "cell_type": "markdown",
   "metadata": {},
   "source": [
    "$$\\mathcal{P}(G) = e^{\\lambda_1 - 1}e^{-\\lambda_2m(G)} = \\frac{e^{-\\lambda_2m(G)}}{Z}$$"
   ]
  },
  {
   "cell_type": "markdown",
   "metadata": {},
   "source": [
    "$$m(G) = \\langle k_G  \\rangle = \\frac{2E}{N} $$"
   ]
  },
  {
   "cell_type": "markdown",
   "metadata": {},
   "source": [
    "$$Z = \\sum_{G \\in M_n} e^{-\\lambda \\langle k_G  \\rangle } = \\sum_{G \\in M_n} e^{-\\lambda \\frac{2E}{N}} = \\sum_{E=0}^{\\frac{N(N-1)}{2}} N_G(E)e^{-\\lambda \\frac{2E}{N}} = \\sum_{E=0}^{\\frac{N(N-1)}{2}} {\\frac{N(N-1)}{2}\\choose E}q^E = $$"
   ]
  },
  {
   "cell_type": "markdown",
   "metadata": {},
   "source": [
    "$$=(q+1)^{\\frac{N(N-1)}{2}}=(e^{-2\\frac{\\lambda}{N}}+1)^{\\frac{N(N-1)}{2}}$$"
   ]
  },
  {
   "cell_type": "markdown",
   "metadata": {},
   "source": [
    "### Ex. 2, 3"
   ]
  },
  {
   "cell_type": "code",
   "execution_count": 2,
   "metadata": {},
   "outputs": [],
   "source": [
    "n, p = 1000, 0.2\n",
    "def return_ER_graph(n, p):\n",
    "    am = np.random.choice([1, 0], p=[p, 1-p], size=(n, n))\n",
    "    am = np.triu(am, k=1)\n",
    "    return nx.from_numpy_matrix(am)\n",
    "er_graph = return_ER_graph(n, p)\n",
    "#nx.draw(er_graph)"
   ]
  },
  {
   "cell_type": "markdown",
   "metadata": {},
   "source": [
    "### Ex. 4"
   ]
  },
  {
   "cell_type": "code",
   "execution_count": 3,
   "metadata": {},
   "outputs": [
    {
     "data": {
      "image/png": "[encoded data removed]",
      "text/plain": [
       "<Figure size 432x288 with 1 Axes>"
      ]
     },
     "metadata": {
      "needs_background": "light"
     },
     "output_type": "display_data"
    }
   ],
   "source": [
    "degrees = np.array(list(dict(er_graph.degree).values()))\n",
    "helpers.draw_hist(degrees)"
   ]
  },
  {
   "cell_type": "markdown",
   "metadata": {},
   "source": [
    "### Ex. 5\n",
    "We expect Binomial/Poisson distribution"
   ]
  },
  {
   "cell_type": "markdown",
   "metadata": {},
   "source": [
    "### Ex. 6\n",
    "TO DO:"
   ]
  },
  {
   "cell_type": "markdown",
   "metadata": {},
   "source": [
    "### Ex. 7 "
   ]
  },
  {
   "cell_type": "code",
   "execution_count": 4,
   "metadata": {},
   "outputs": [
    {
     "data": {
      "image/png": "[encoded data removed]",
      "text/plain": [
       "<Figure size 432x288 with 1 Axes>"
      ]
     },
     "metadata": {
      "needs_background": "light"
     },
     "output_type": "display_data"
    }
   ],
   "source": [
    "fig, ax = plt.subplots()\n",
    "x = np.arange(degrees.min(), degrees.max()+1)\n",
    "y_binomial = np.array([scipy.stats.binom.pmf(k, n, p) for k in x])\n",
    "y_poisson = np.array([scipy.stats.poisson.pmf(k, n*p) for k in x])\n",
    "ax.scatter(x, y_binomial, color='red', label='binomial')\n",
    "ax.scatter(x, y_poisson, color='green', label='poisson')\n",
    "helpers.draw_hist(degrees, ax=ax)"
   ]
  },
  {
   "cell_type": "code",
   "execution_count": 5,
   "metadata": {},
   "outputs": [],
   "source": [
    "degree_counter = Counter(degrees)\n",
    "y = np.array([degree_counter[k] for k in np.arange(degrees.min(), degrees.max()+1)])"
   ]
  },
  {
   "cell_type": "code",
   "execution_count": 6,
   "metadata": {},
   "outputs": [
    {
     "data": {
      "text/plain": [
       "(1174642.226351766, 1108453.5917943662)"
      ]
     },
     "execution_count": 6,
     "metadata": {},
     "output_type": "execute_result"
    }
   ],
   "source": [
    "scipy.stats.chisquare(y, y_binomial).statistic, scipy.stats.chisquare(y, y_poisson).statistic"
   ]
  },
  {
   "cell_type": "markdown",
   "metadata": {},
   "source": [
    "### Ex. 8"
   ]
  },
  {
   "cell_type": "code",
   "execution_count": 7,
   "metadata": {},
   "outputs": [
    {
     "name": "stdout",
     "output_type": "stream",
     "text": [
      "100\n",
      "1000\n",
      "10000\n"
     ]
    }
   ],
   "source": [
    "Ns = [100, 1000, 10000]\n",
    "ps = [0.1, 0.5, 0.9]\n",
    "b_stats = {} \n",
    "p_stats = {}\n",
    "for n in Ns: \n",
    "    print(n)\n",
    "    for p in ps: \n",
    "        er_graph = return_ER_graph(n, p)\n",
    "        degrees = np.array(list(dict(er_graph.degree).values()))\n",
    "        x = np.arange(degrees.min(), degrees.max()+1)\n",
    "        y_binomial = np.array([scipy.stats.binom.pmf(k, n, p) for k in x])\n",
    "        y_poisson = np.array([scipy.stats.poisson.pmf(k, n*p) for k in x])\n",
    "        degree_counter = Counter(degrees)\n",
    "        y = np.array([degree_counter[k] for k in np.arange(degrees.min(), degrees.max()+1)])\n",
    "        binomial_stat = scipy.stats.chisquare(y, y_binomial).statistic\n",
    "        poisson_stat = scipy.stats.chisquare(y, y_poisson).statistic\n",
    "        b_stats[(n, p)] = binomial_stat\n",
    "        p_stats[(n, p)] = poisson_stat"
   ]
  },
  {
   "cell_type": "code",
   "execution_count": 8,
   "metadata": {},
   "outputs": [
    {
     "data": {
      "image/png": "[encoded data removed]",
      "text/plain": [
       "<Figure size 1944x432 with 3 Axes>"
      ]
     },
     "metadata": {
      "needs_background": "light"
     },
     "output_type": "display_data"
    }
   ],
   "source": [
    "fig, axs = plt.subplots(ncols=3, figsize=(27, 6))\n",
    "for i, p in enumerate(ps): \n",
    "    binomial_stat_tmp = [(n, stat) for (n, p_), stat in b_stats.items() if p_ == p]\n",
    "    poisson_stat_tmp = [(n, stat) for (n, p_), stat in p_stats.items() if p_ == p]\n",
    "    \n",
    "    binomial_stat_tmp = pd.DataFrame(binomial_stat_tmp, columns=['n', 'stats'])\n",
    "    poisson_stat_tmp = pd.DataFrame(poisson_stat_tmp, columns=['n', 'stats'])\n",
    "    stat = poisson_stat_tmp.merge(binomial_stat_tmp, on=['n'], suffixes=('_possion', '_binomial')).set_index('n')\n",
    "    stat[['stats_possion', 'stats_binomial']] = stat[['stats_possion', 'stats_binomial']].apply(lambda x: x/max(x), axis=1)\n",
    "    stat.plot.bar(rot=0, ax=axs[i])\n",
    "    axs[i].set_ylabel('normalized chi2 statistic')"
   ]
  },
  {
   "cell_type": "markdown",
   "metadata": {},
   "source": [
    "### P5.1"
   ]
  },
  {
   "cell_type": "markdown",
   "metadata": {},
   "source": [
    "$$ E(K) = \\sum_{k=0}^{\\infty} \\frac{ke^{-\\langle k \\rangle } \\langle k \\rangle ^k}{k!} = \\sum_{k=1}^{\\infty} \\frac{ke^{-\\langle k \\rangle } \\langle k \\rangle ^k}{k!} = \\sum_{k=1}^{\\infty} \\frac{e^{-\\langle k \\rangle } \\langle k \\rangle ^k}{(k-1)!} = \\langle k \\rangle e^{-\\langle k \\rangle } \\sum_{k=1}^{\\infty} \\frac{ \\langle k \\rangle ^{k-1}}{(k-1)!} = $$\n"
   ]
  },
  {
   "cell_type": "markdown",
   "metadata": {},
   "source": [
    "$$ |k'=k-1|= \\langle k \\rangle e^{-\\langle k \\rangle } \\sum_{k=0}^{\\infty} \\frac{ \\langle k \\rangle ^{k}}{k!} = \\Big| e^x = \\sum_{k=0}^{\\infty} \\frac{x^k}{k!} \\Big| = \\langle k \\rangle e^{-\\langle k \\rangle } e^{\\langle k \\rangle } = \\langle k \\rangle$$\n"
   ]
  },
  {
   "cell_type": "markdown",
   "metadata": {},
   "source": [
    "$$ E(K^2) = \\sum_{k=0}^{\\infty} \\frac{k^2e^{-\\langle k \\rangle } \\langle k \\rangle ^k}{k!} = \\sum_{k=1}^{\\infty} \\frac{k^2e^{-\\langle k \\rangle } \\langle k \\rangle ^k}{k!} = \\sum_{k=1}^{\\infty} \\frac{ke^{-\\langle k \\rangle } \\langle k \\rangle ^k}{(k-1)!} = \\langle k \\rangle e^{-\\langle k \\rangle } \\sum_{k=1}^{\\infty} \\frac{ k\\langle k \\rangle ^{k-1}}{(k-1)!} =$$\n"
   ]
  },
  {
   "cell_type": "markdown",
   "metadata": {},
   "source": [
    "$$|k'=k-1|= \\langle k \\rangle e^{-\\langle k \\rangle } \\sum_{k=0}^{\\infty} (k+1)\\frac{ \\langle k \\rangle ^{k}}{k!} =\n",
    "\\langle k \\rangle e^{-\\langle k \\rangle } \\sum_{k=0}^{\\infty} k\\frac{ \\langle k \\rangle ^{k}}{k!} + \\langle k \\rangle e^{-\\langle k \\rangle } \\sum_{k=0}^{\\infty} \\frac{ \\langle k \\rangle ^{k}}{k!} = *$$"
   ]
  },
  {
   "cell_type": "markdown",
   "metadata": {},
   "source": [
    "$$\\langle k \\rangle e^{-\\langle k \\rangle } \\sum_{k=0}^{\\infty} k\\frac{ \\langle k \\rangle ^{k}}{k!} = \\langle k \\rangle e^{-\\langle k \\rangle } \\sum_{k=1}^{\\infty} \\frac{ \\langle k \\rangle ^{k}}{(k-1)!}=|k'=k-1|=\\langle k \\rangle^2 e^{-\\langle k \\rangle } \\sum_{k=0}^{\\infty} \\frac{ \\langle k \\rangle ^{k}}{k!} = \\langle k \\rangle^2$$"
   ]
  },
  {
   "cell_type": "markdown",
   "metadata": {},
   "source": [
    "$$*=\\langle k \\rangle^2 + \\langle k \\rangle = E(K^2)$$"
   ]
  },
  {
   "cell_type": "markdown",
   "metadata": {},
   "source": [
    "$$Var(K) = E(K^2) - [E(K)]^2 = \\langle k \\rangle^2 + \\langle k \\rangle - \\langle k \\rangle^2 = \\langle k \\rangle $$"
   ]
  },
  {
   "cell_type": "markdown",
   "metadata": {},
   "source": [
    "### P5.2"
   ]
  },
  {
   "cell_type": "code",
   "execution_count": 9,
   "metadata": {},
   "outputs": [
    {
     "data": {
      "text/plain": [
       "'p=0.2, and <C>=0.19960795843497806'"
      ]
     },
     "execution_count": 9,
     "metadata": {},
     "output_type": "execute_result"
    }
   ],
   "source": [
    "n, p = 1000, 0.2\n",
    "er_graph = return_ER_graph(n, p)\n",
    "f'p={p}, and <C>={nx.average_clustering(er_graph)}'"
   ]
  },
  {
   "cell_type": "markdown",
   "metadata": {},
   "source": [
    "### P5.3 "
   ]
  },
  {
   "cell_type": "code",
   "execution_count": 272,
   "metadata": {},
   "outputs": [
    {
     "data": {
      "image/png": "[encoded data removed]",
      "text/plain": [
       "<Figure size 432x288 with 1 Axes>"
      ]
     },
     "metadata": {},
     "output_type": "display_data"
    }
   ],
   "source": [
    "def return_communities(n=20, n_communities=4, p_low=0.05, p_high=0.8):\n",
    "    comm_indices = np.arange(n).reshape(n_communities, -1)\n",
    "    pairs = [np.array(list(itertools.product(comm_indices_, comm_indices_))) for comm_indices_ in comm_indices]\n",
    "    am = np.random.choice([1, 0], p=[p_low, 1-p_low], size=(n, n))\n",
    "    am_high = np.random.choice([1, 0], p=[p_high, 1-p_high], size=(n, n))\n",
    "\n",
    "    for pairs_ in pairs: \n",
    "        am[pairs_[:, 0], pairs_[:, 1]] = am_high[pairs_[:, 0], pairs_[:, 1]]\n",
    "    \n",
    "    am = np.triu(am, k=1)\n",
    "    return nx.from_numpy_matrix(am)\n",
    "com_g = return_communities()\n",
    "nx.draw(com_g, pos=nx.spring_layout(com_g))"
   ]
  },
  {
   "cell_type": "markdown",
   "metadata": {},
   "source": [
    "### P5.4 "
   ]
  },
  {
   "cell_type": "code",
   "execution_count": 11,
   "metadata": {},
   "outputs": [
    {
     "data": {
      "image/png": "[encoded data removed]",
      "text/plain": [
       "<Figure size 432x288 with 1 Axes>"
      ]
     },
     "metadata": {
      "needs_background": "light"
     },
     "output_type": "display_data"
    }
   ],
   "source": [
    "ps = np.linspace(0, 1, 11)\n",
    "ccs = [nx.average_clustering(nx.watts_strogatz_graph(50, 20, p)) for p in ps]\n",
    "plt.plot(ps, ccs)\n",
    "plt.ylabel('Clustering coefficient')\n",
    "plt.xlabel('p');"
   ]
  },
  {
   "cell_type": "markdown",
   "metadata": {},
   "source": [
    "### P5.6"
   ]
  },
  {
   "cell_type": "code",
   "execution_count": 196,
   "metadata": {},
   "outputs": [],
   "source": [
    "from numba import njit, jit, typed"
   ]
  },
  {
   "cell_type": "code",
   "execution_count": 88,
   "metadata": {},
   "outputs": [],
   "source": [
    "@jit\n",
    "def gen_pairs(possible_connections, am): \n",
    "    pairs = []\n",
    "    for i in range(am.shape[0]):\n",
    "        for j in range(am.shape[0]):\n",
    "            if i > j and am[i , j] == 0 and possible_connections[i] and possible_connections[j]:\n",
    "                pairs.append((i, j))\n",
    "    return pairs"
   ]
  },
  {
   "cell_type": "code",
   "execution_count": 89,
   "metadata": {},
   "outputs": [],
   "source": [
    "@jit\n",
    "def add_pair(pair, possible_connections, am):\n",
    "    possible_connections[pair[0]] -= 1\n",
    "    possible_connections[pair[1]] -= 1\n",
    "    am[pair] = 1\n",
    "    return possible_connections, am"
   ]
  },
  {
   "cell_type": "code",
   "execution_count": 90,
   "metadata": {},
   "outputs": [],
   "source": [
    "@jit\n",
    "def remove_pair(pair, possible_connections, am):\n",
    "    possible_connections[pair[0]] += 1\n",
    "    possible_connections[pair[1]] += 1\n",
    "    am[pair] = 0\n",
    "    return possible_connections, am"
   ]
  },
  {
   "cell_type": "code",
   "execution_count": 191,
   "metadata": {},
   "outputs": [],
   "source": [
    "\n",
    "def simulate(possible_connections, am, pairs_added):\n",
    "    pairs = gen_pairs(possible_connections, am)\n",
    "    while pairs: \n",
    "        pair_idx = np.random.randint(0, len(pairs))\n",
    "        pair = pairs[pair_idx]\n",
    "        add_pair(pair, possible_connections, am)\n",
    "        pairs_added.append(pair)\n",
    "        pairs = gen_pairs(possible_connections, am)\n",
    "        #print(am.sum(), len(pairs_added))\n",
    "    return possible_connections, am, pairs_added"
   ]
  },
  {
   "cell_type": "code",
   "execution_count": 192,
   "metadata": {},
   "outputs": [],
   "source": [
    "@jit\n",
    "def rollback(possible_connections, am, pairs_added, divide_factor): \n",
    "    for i in range(len(pairs_added)-1, len(pairs_added)//divide_factor, -1):\n",
    "        possible_connections, am = remove_pair(pairs_added[i], possible_connections, am)\n",
    "        pairs_added = pairs_added[:i]\n",
    "    return possible_connections, am, pairs_added"
   ]
  },
  {
   "cell_type": "code",
   "execution_count": 262,
   "metadata": {},
   "outputs": [],
   "source": [
    "def configuration_model(degrees, n_simulations=20, start_divide_factor=2):\n",
    "    am = np.zeros((degrees.shape[0], degrees.shape[0]))\n",
    "    simulations = [simulate(degrees.copy(), am.copy(), []) for _ in range(n_simulations)]\n",
    "    done = False\n",
    "    last_best_simulation = [0, np.array([0]), 0]\n",
    "    divide_factor = start_divide_factor\n",
    "    rollback_count = 0\n",
    "    while not done:\n",
    "        for (possible_connections, am, pairs_added) in simulations: \n",
    "            if possible_connections.sum() == 0:# and all(am.sum(axis=1) != 0):\n",
    "                done = True\n",
    "                break\n",
    "        else: \n",
    "            best_simulation = max(simulations, key=lambda x: x[1].sum())\n",
    "            #print(best_simulation[1].sum(), divide_factor)\n",
    "            if last_best_simulation[1].sum() < best_simulation[1].sum(): \n",
    "                last_best_simulation = best_simulation\n",
    "                divide_factor = start_divide_factor\n",
    "            else: \n",
    "                divide_factor += 1\n",
    "                divide_factor = min(divide_factor, 10)\n",
    "            possible_connections, am, pairs_added = rollback(possible_connections, am, typed.List(pairs_added.copy()), divide_factor)\n",
    "            rollback_count += 1\n",
    "            assert am.sum() == len(pairs_added), f'am.sum(){am.sum()} != len(pairs_added) {len(pairs_added)}'\n",
    "            #print('new_start', possible_connections[0].sum(), am[1].sum())\n",
    "            simulations = [simulate(possible_connections.copy(), am.copy(), pairs_added.copy()) for _ in range(n_simulations)]\n",
    "    return nx.from_numpy_matrix(am), rollback_count"
   ]
  },
  {
   "cell_type": "code",
   "execution_count": 263,
   "metadata": {},
   "outputs": [],
   "source": [
    "def return_proper_degrees(n=30):\n",
    "    nx_degrees = [1]\n",
    "    degrees = []\n",
    "    while nx_degrees != sorted(degrees):\n",
    "        degrees = np.random.randint(1,n//2, size=(n, )) #np.array([2, 2, 2])\n",
    "        if degrees.sum() % 2 == 1: \n",
    "            degrees[0] += 1\n",
    "        nx_degrees = sorted(nx.adjacency_matrix(nx.configuration_model(degrees)).toarray().sum(axis=1).flatten())\n",
    "        \n",
    "    return degrees"
   ]
  },
  {
   "cell_type": "code",
   "execution_count": 264,
   "metadata": {},
   "outputs": [
    {
     "name": "stdout",
     "output_type": "stream",
     "text": [
      "[1 1 3 1 4 4 3 1 3 1]\n",
      "True\n",
      "0\n"
     ]
    },
    {
     "data": {
      "image/png": "[encoded data removed]",
      "text/plain": [
       "<Figure size 432x288 with 1 Axes>"
      ]
     },
     "metadata": {},
     "output_type": "display_data"
    }
   ],
   "source": [
    "degrees = return_proper_degrees(n=10)\n",
    "print(degrees)\n",
    "g,rbc = configuration_model(degrees, n_simulations=80)\n",
    "print(sorted(dict(g.degree()).values()) == sorted(degrees))\n",
    "print(rbc)\n",
    "nx.draw(g)"
   ]
  },
  {
   "cell_type": "code",
   "execution_count": 282,
   "metadata": {},
   "outputs": [
    {
     "name": "stderr",
     "output_type": "stream",
     "text": [
      "100%|███████████████████████████████████████████████████████████████████████████████████| 5/5 [00:00<00:00, 713.49it/s]\n",
      "100%|███████████████████████████████████████████████████████████████████████████████████| 5/5 [00:00<00:00, 124.89it/s]\n",
      "  0%|                                                                                            | 0/5 [00:00<?, ?it/s]"
     ]
    },
    {
     "name": "stdout",
     "output_type": "stream",
     "text": [
      "5\n",
      "10\n",
      "20\n"
     ]
    },
    {
     "name": "stderr",
     "output_type": "stream",
     "text": [
      "100%|████████████████████████████████████████████████████████████████████████████████████| 5/5 [00:00<00:00, 10.31it/s]\n",
      "  0%|                                                                                            | 0/5 [00:00<?, ?it/s]"
     ]
    },
    {
     "name": "stdout",
     "output_type": "stream",
     "text": [
      "30\n"
     ]
    },
    {
     "name": "stderr",
     "output_type": "stream",
     "text": [
      "100%|████████████████████████████████████████████████████████████████████████████████████| 5/5 [00:05<00:00,  1.15s/it]\n",
      "  0%|                                                                                            | 0/5 [00:00<?, ?it/s]"
     ]
    },
    {
     "name": "stdout",
     "output_type": "stream",
     "text": [
      "40\n"
     ]
    },
    {
     "name": "stderr",
     "output_type": "stream",
     "text": [
      "100%|███████████████████████████████████████████████████████████████████████████████████| 5/5 [12:17<00:00, 147.43s/it]\n"
     ]
    }
   ],
   "source": [
    "import tqdm\n",
    "ns = [5, 10, 20, 30, 40]\n",
    "counts = []\n",
    "for n in ns:\n",
    "    print(n)\n",
    "    counts.append([])\n",
    "    for _ in tqdm.tqdm(range(5)):\n",
    "        degrees = return_proper_degrees(n=n)\n",
    "        _, rbc = configuration_model(degrees, n_simulations=10*n) \n",
    "        counts[-1].append(rbc)"
   ]
  },
  {
   "cell_type": "code",
   "execution_count": 283,
   "metadata": {},
   "outputs": [],
   "source": [
    "counts = np.array(counts) + 1 "
   ]
  },
  {
   "cell_type": "code",
   "execution_count": 291,
   "metadata": {},
   "outputs": [
    {
     "data": {
      "text/plain": [
       "Text(0.5, 0, 'n_nodes in graph')"
      ]
     },
     "execution_count": 291,
     "metadata": {},
     "output_type": "execute_result"
    },
    {
     "data": {
      "image/png": "[encoded data removed]",
      "text/plain": [
       "<Figure size 432x288 with 1 Axes>"
      ]
     },
     "metadata": {
      "needs_background": "light"
     },
     "output_type": "display_data"
    }
   ],
   "source": [
    "plt.errorbar(ns, counts.mean(axis=1), yerr=counts.std(axis=1), ecolor='red')\n",
    "plt.ylabel('number of steps')\n",
    "plt.xlabel('n_nodes in graph')"
   ]
  },
  {
   "cell_type": "markdown",
   "metadata": {},
   "source": [
    "### P5.5"
   ]
  },
  {
   "cell_type": "markdown",
   "metadata": {},
   "source": [
    "$$p = \\frac{E}{\\frac{N(N-1)}{2}}$$"
   ]
  },
  {
   "cell_type": "markdown",
   "metadata": {},
   "source": [
    "K has binomial distribution\n",
    "$$\\mathcal{P}(k) = {N-1 \\choose k} \\biggl( \\frac{E}{\\frac{N(N-1)}{2}}\\biggl)^k \\biggl(1-  \\frac{E}{\\frac{N(N-1)}{2}}\\biggl)^{N-1-k}$$"
   ]
  },
  {
   "cell_type": "markdown",
   "metadata": {},
   "source": [
    "We can approximate it with Poisson distribution"
   ]
  },
  {
   "cell_type": "markdown",
   "metadata": {},
   "source": [
    "$$\\mathcal{P}(k)  \\approx \\frac{e^{-\\langle k \\rangle}\\langle k \\rangle^k}{k!}$$\n",
    "Where: \n",
    "$$\\langle k \\rangle \\approx Np = N\\frac{E}{\\frac{N(N-1)}{2}} = \\frac{2E}{N-1}$$"
   ]
  },
  {
   "cell_type": "code",
   "execution_count": 334,
   "metadata": {},
   "outputs": [
    {
     "data": {
      "text/plain": [
       "(180.0, 180.01800180018003)"
      ]
     },
     "execution_count": 334,
     "metadata": {},
     "output_type": "execute_result"
    }
   ],
   "source": [
    "def return_ER_NE_graph(n, e):\n",
    "    am = np.zeros((n,n))\n",
    "    pairs = []\n",
    "    for i in range(n):\n",
    "        for j in range(n):\n",
    "            if i > j:\n",
    "                pairs.append((i, j))\n",
    "\n",
    "    indices = np.random.choice(len(pairs), size=(e,), replace=False)\n",
    "    for pair in np.array(pairs)[indices]:\n",
    "        am[tuple(pair)] = 1\n",
    "    return nx.from_numpy_matrix(am)\n",
    "N, E = 10000, 900000\n",
    "E = min(N*(N-1)/2, E)\n",
    "er_graph = return_ER_NE_graph(N, E)\n",
    "degrees = np.array(list(dict(er_graph.degree).values()))\n",
    "degrees.mean(), 2*E/(N-1)"
   ]
  },
  {
   "cell_type": "code",
   "execution_count": 335,
   "metadata": {},
   "outputs": [
    {
     "data": {
      "image/png": "[encoded data removed]",
      "text/plain": [
       "<Figure size 432x288 with 1 Axes>"
      ]
     },
     "metadata": {
      "needs_background": "light"
     },
     "output_type": "display_data"
    }
   ],
   "source": [
    "fig, ax = plt.subplots()\n",
    "p = E/(N*(N-1)/2)\n",
    "x = np.arange(degrees.min(), degrees.max()+1)\n",
    "y_binomial = np.array([scipy.stats.binom.pmf(k, N, p) for k in x])\n",
    "y_poisson = np.array([scipy.stats.poisson.pmf(k, N*p) for k in x])\n",
    "ax.scatter(x, y_binomial, color='red', label='binomial')\n",
    "ax.scatter(x, y_poisson, color='green', label='poisson')\n",
    "helpers.draw_hist(degrees, ax=ax)"
   ]
  },
  {
   "cell_type": "markdown",
   "metadata": {},
   "source": [
    "### P5.7"
   ]
  },
  {
   "cell_type": "markdown",
   "metadata": {},
   "source": [
    "$$Z = {\\frac{N(N-1)}{2}\\choose E} e^{-2\\frac{\\lambda E}{N}}$$"
   ]
  },
  {
   "cell_type": "markdown",
   "metadata": {},
   "source": [
    "$$\\mathcal{P}(G) = \\frac{e^{-\\lambda_2m(G)}}{{\\frac{N(N-1)}{2}\\choose E} e^{-2\\frac{\\lambda_1 E}{N}}} = \\frac{e^{-\\lambda_2m(G) + 2\\frac{\\lambda_1 E}{N}}}{\\frac{N(N-1)}{2}\\choose E}$$"
   ]
  }
 ],
 "metadata": {
  "kernelspec": {
   "display_name": "Python 3",
   "language": "python",
   "name": "python3"
  },
  "language_info": {
   "codemirror_mode": {
    "name": "ipython",
    "version": 3
   },
   "file_extension": ".py",
   "mimetype": "text/x-python",
   "name": "python",
   "nbconvert_exporter": "python",
   "pygments_lexer": "ipython3",
   "version": "3.6.9"
  }
 },
 "nbformat": 4,
 "nbformat_minor": 4
}
