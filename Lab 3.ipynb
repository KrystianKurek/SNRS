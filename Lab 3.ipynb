{
 "cells": [
  {
   "cell_type": "code",
   "execution_count": 1,
   "metadata": {},
   "outputs": [],
   "source": [
    "import numpy as np\n",
    "from scipy import optimize\n",
    "import networkx as nx\n",
    "import matplotlib.pyplot as plt"
   ]
  },
  {
   "cell_type": "code",
   "execution_count": 2,
   "metadata": {},
   "outputs": [],
   "source": [
    "NODE_CONSTANT = 1\n",
    "EDGE_CONSTANT = 1"
   ]
  },
  {
   "cell_type": "code",
   "execution_count": 3,
   "metadata": {},
   "outputs": [],
   "source": [
    "def return_random_pos(n_nodes): \n",
    "    return np.random.uniform(-1, 1, size=(n_nodes, 2))"
   ]
  },
  {
   "cell_type": "code",
   "execution_count": 4,
   "metadata": {},
   "outputs": [],
   "source": [
    "def return_circle_pos(n_nodes): \n",
    "    return np.array([(np.cos(angle * 3.1415 / 180), np.sin(angle* 3.1415 / 180)) for angle in range(0, 360, 360 // n_nodes)]).reshape(-1, 2)[:n_nodes]"
   ]
  },
  {
   "cell_type": "code",
   "execution_count": 5,
   "metadata": {},
   "outputs": [
    {
     "data": {
      "image/png": "[encoded data removed]",
      "text/plain": [
       "<Figure size 432x288 with 1 Axes>"
      ]
     },
     "metadata": {},
     "output_type": "display_data"
    }
   ],
   "source": [
    "def return_random_graph(n_nodes): \n",
    "    G = nx.fast_gnp_random_graph(n_nodes, 0.3)\n",
    "    am = nx.adjacency_matrix(G).toarray()\n",
    "    while 0 in am.sum(axis=1):\n",
    "        G = nx.fast_gnp_random_graph(n_nodes, n_nodes/10)\n",
    "        am = nx.adjacency_matrix(G).toarray()\n",
    "    return G\n",
    "nx.draw(return_random_graph(4))"
   ]
  },
  {
   "cell_type": "code",
   "execution_count": 6,
   "metadata": {},
   "outputs": [],
   "source": [
    "def set_positions(G, pos): \n",
    "    for n, p in enumerate(pos):\n",
    "        G.nodes[n]['pos'] = p\n",
    "    return G"
   ]
  },
  {
   "cell_type": "code",
   "execution_count": 7,
   "metadata": {},
   "outputs": [
    {
     "data": {
      "text/plain": [
       "array([[0., 0.],\n",
       "       [2., 0.]])"
      ]
     },
     "execution_count": 7,
     "metadata": {},
     "output_type": "execute_result"
    }
   ],
   "source": [
    "from numba import njit \n",
    "\n",
    "def return_distance_matrix(pos):\n",
    "    am = np.zeros((len(pos), len(pos)))\n",
    "    for i in range(len(pos)):\n",
    "        for j in range(len(pos)):\n",
    "            if i > j: \n",
    "                am[i, j] = (pos[i][0] - pos[j][0])**2 + (pos[i][1] - pos[j][1])**2\n",
    "    return am \n",
    "return_distance_matrix(np.array([[1,1], [2,2]]))"
   ]
  },
  {
   "cell_type": "code",
   "execution_count": 8,
   "metadata": {},
   "outputs": [],
   "source": [
    "\n",
    "def get_distance(i, j, am): \n",
    "    return am[max(i,j), min(i,j)]"
   ]
  },
  {
   "cell_type": "code",
   "execution_count": 9,
   "metadata": {},
   "outputs": [],
   "source": [
    "\n",
    "def return_energy(pos): \n",
    "    energy_spring = 0\n",
    "    energy_static = 0\n",
    "    distance_am = return_distance_matrix(pos.reshape(-1, 2))\n",
    "    for i in range(am.shape[0]):\n",
    "        for j in range(am.shape[1]):\n",
    "            if i != j:\n",
    "                if am[i,j] != 0:\n",
    "                    #print(i,j)\n",
    "                    energy_spring += get_distance(i, j, distance_am)\n",
    "                if i > j:\n",
    "                    energy_static += 1/get_distance(i, j, distance_am)**0.5\n",
    "    energy_spring *= EDGE_CONSTANT\n",
    "    energy_static *= NODE_CONSTANT\n",
    "    \n",
    "    return energy_spring + energy_static\n"
   ]
  },
  {
   "cell_type": "code",
   "execution_count": 32,
   "metadata": {},
   "outputs": [],
   "source": [
    "def optimize_and_return_steps(fun, initial):\n",
    "    steps = [initial]\n",
    "    energy = [fun(initial)]\n",
    "    def store_steps_and_energy(X):\n",
    "        steps.append(X)\n",
    "        energy.append(fun(X))\n",
    "        print(len(steps))\n",
    "    result = optimize.minimize(fun, initial, callback=store_steps_and_energy, options={'maxiter': 1000})\n",
    "    return result.x, steps, energy\n"
   ]
  },
  {
   "cell_type": "code",
   "execution_count": 33,
   "metadata": {},
   "outputs": [],
   "source": [
    "NODE_CONSTANT = 1\n",
    "EDGE_CONSTANT = 10**6"
   ]
  },
  {
   "cell_type": "code",
   "execution_count": 34,
   "metadata": {},
   "outputs": [
    {
     "name": "stdout",
     "output_type": "stream",
     "text": [
      "2\n",
      "3\n",
      "4\n",
      "5\n",
      "6\n",
      "7\n",
      "8\n",
      "9\n",
      "10\n",
      "11\n",
      "12\n",
      "13\n",
      "14\n",
      "15\n",
      "16\n",
      "17\n",
      "18\n",
      "19\n",
      "20\n",
      "21\n",
      "22\n",
      "23\n",
      "24\n",
      "25\n",
      "26\n",
      "27\n",
      "28\n",
      "29\n",
      "30\n",
      "31\n",
      "32\n",
      "33\n",
      "34\n",
      "35\n",
      "36\n",
      "37\n",
      "38\n",
      "39\n",
      "40\n",
      "41\n",
      "42\n",
      "43\n",
      "44\n",
      "45\n",
      "46\n",
      "47\n",
      "48\n",
      "49\n",
      "50\n",
      "51\n",
      "52\n",
      "53\n",
      "54\n",
      "55\n",
      "56\n",
      "57\n",
      "58\n",
      "59\n",
      "60\n",
      "61\n",
      "62\n",
      "63\n",
      "64\n",
      "65\n",
      "66\n",
      "67\n",
      "68\n",
      "69\n",
      "70\n",
      "71\n",
      "72\n",
      "73\n",
      "74\n",
      "75\n",
      "76\n",
      "77\n",
      "78\n",
      "79\n",
      "80\n",
      "81\n",
      "82\n",
      "83\n",
      "84\n",
      "85\n",
      "86\n",
      "87\n",
      "88\n",
      "89\n",
      "90\n",
      "91\n",
      "92\n",
      "93\n",
      "94\n",
      "95\n",
      "96\n",
      "97\n",
      "98\n",
      "99\n",
      "100\n",
      "101\n",
      "102\n",
      "103\n",
      "104\n",
      "105\n",
      "106\n",
      "107\n",
      "108\n",
      "109\n",
      "110\n",
      "111\n",
      "112\n",
      "113\n",
      "114\n",
      "115\n",
      "116\n",
      "117\n",
      "118\n",
      "119\n",
      "120\n",
      "121\n",
      "122\n",
      "123\n",
      "124\n",
      "125\n",
      "126\n",
      "127\n",
      "128\n",
      "129\n",
      "130\n",
      "131\n",
      "132\n",
      "133\n",
      "134\n",
      "135\n",
      "136\n",
      "137\n",
      "138\n",
      "139\n",
      "140\n",
      "141\n",
      "142\n",
      "143\n",
      "144\n",
      "145\n",
      "146\n",
      "147\n",
      "148\n",
      "149\n",
      "150\n",
      "151\n",
      "152\n",
      "153\n",
      "154\n",
      "155\n",
      "156\n",
      "157\n",
      "158\n",
      "159\n",
      "160\n",
      "161\n",
      "162\n",
      "163\n",
      "164\n",
      "165\n",
      "166\n",
      "167\n",
      "168\n",
      "169\n",
      "170\n",
      "171\n",
      "172\n",
      "173\n",
      "174\n",
      "175\n",
      "176\n",
      "177\n",
      "178\n",
      "179\n",
      "180\n",
      "181\n",
      "182\n",
      "183\n",
      "184\n",
      "185\n",
      "186\n",
      "187\n",
      "188\n",
      "189\n",
      "190\n",
      "191\n",
      "192\n",
      "193\n",
      "194\n",
      "195\n",
      "196\n",
      "197\n",
      "198\n",
      "199\n",
      "200\n",
      "201\n",
      "202\n",
      "203\n",
      "204\n",
      "205\n",
      "206\n",
      "207\n",
      "208\n",
      "209\n",
      "210\n",
      "211\n",
      "212\n",
      "213\n",
      "214\n",
      "215\n",
      "216\n",
      "217\n",
      "218\n",
      "219\n",
      "220\n",
      "221\n",
      "222\n",
      "223\n",
      "224\n",
      "225\n",
      "226\n",
      "227\n",
      "228\n",
      "229\n",
      "230\n",
      "231\n",
      "232\n",
      "233\n",
      "234\n",
      "235\n",
      "236\n",
      "237\n",
      "238\n",
      "239\n",
      "240\n",
      "241\n",
      "242\n",
      "243\n",
      "244\n",
      "245\n",
      "246\n",
      "247\n",
      "248\n",
      "249\n",
      "250\n",
      "251\n",
      "252\n",
      "253\n",
      "254\n",
      "255\n",
      "256\n",
      "257\n",
      "258\n",
      "259\n",
      "260\n",
      "261\n",
      "262\n",
      "263\n",
      "264\n",
      "265\n",
      "266\n",
      "267\n",
      "268\n",
      "269\n",
      "270\n",
      "271\n",
      "272\n",
      "273\n",
      "274\n",
      "275\n",
      "276\n",
      "277\n",
      "278\n",
      "279\n",
      "280\n",
      "281\n",
      "282\n",
      "283\n",
      "284\n",
      "285\n",
      "286\n",
      "287\n",
      "288\n",
      "289\n",
      "290\n",
      "291\n",
      "292\n",
      "293\n",
      "294\n",
      "295\n",
      "296\n",
      "297\n",
      "298\n",
      "299\n",
      "300\n",
      "301\n",
      "302\n",
      "303\n",
      "304\n",
      "305\n",
      "306\n",
      "307\n",
      "308\n",
      "309\n",
      "310\n",
      "311\n",
      "312\n",
      "313\n",
      "314\n",
      "315\n",
      "316\n",
      "317\n",
      "318\n",
      "319\n",
      "320\n",
      "321\n",
      "322\n",
      "323\n",
      "324\n",
      "325\n",
      "326\n",
      "327\n",
      "328\n",
      "329\n",
      "330\n",
      "331\n",
      "332\n",
      "333\n",
      "334\n",
      "335\n",
      "336\n",
      "337\n",
      "338\n",
      "339\n",
      "340\n",
      "341\n",
      "342\n",
      "343\n",
      "344\n",
      "345\n",
      "346\n",
      "347\n",
      "348\n",
      "349\n",
      "350\n",
      "351\n",
      "352\n",
      "353\n",
      "354\n",
      "355\n",
      "356\n",
      "357\n",
      "358\n",
      "359\n",
      "360\n",
      "361\n",
      "362\n",
      "363\n",
      "364\n",
      "365\n",
      "366\n",
      "367\n",
      "368\n",
      "369\n",
      "370\n",
      "371\n",
      "372\n",
      "373\n",
      "374\n",
      "375\n",
      "376\n",
      "377\n",
      "378\n",
      "379\n",
      "380\n",
      "381\n",
      "382\n",
      "383\n",
      "384\n",
      "385\n",
      "386\n",
      "387\n",
      "388\n",
      "389\n",
      "390\n",
      "391\n",
      "392\n"
     ]
    }
   ],
   "source": [
    "n_nodes = 100\n",
    "G = return_random_graph(n_nodes)\n",
    "G = nx.random_tree(n_nodes)\n",
    "pos = return_random_pos(n_nodes)\n",
    "#pos = return_circle_pos(n_nodes)\n",
    "G = set_positions(G, pos)\n",
    "am = nx.adjacency_matrix(G).toarray()\n",
    "am = np.triu(am)\n",
    "fitted_params, steps, energy = optimize_and_return_steps(return_energy, pos.flatten())\n",
    "\n",
    "G = set_positions(G, fitted_params.reshape(n_nodes, 2))\n",
    "\n"
   ]
  },
  {
   "cell_type": "code",
   "execution_count": 37,
   "metadata": {},
   "outputs": [
    {
     "data": {
      "image/png": "[encoded data removed]",
      "text/plain": [
       "<Figure size 864x288 with 2 Axes>"
      ]
     },
     "metadata": {},
     "output_type": "display_data"
    }
   ],
   "source": [
    "import matplotlib.animation\n",
    "\n",
    "fig, axs = plt.subplots(ncols=2, figsize=(12,4))\n",
    "\n",
    "\n",
    "def update(num):\n",
    "    axs[0].clear()\n",
    "    axs[1].clear()\n",
    "    nx.draw(G, ax=axs[0], with_labels=False, pos=steps[num].reshape(n_nodes, 2), node_size=50)\n",
    "    axs[1].plot(energy)\n",
    "    axs[1].scatter([num], [energy[num]], color='red')\n",
    "    axs[1].set_ylabel('energy')\n",
    "    axs[1].set_xlabel('iterations')\n",
    "    \n",
    "\n",
    "ani = matplotlib.animation.FuncAnimation(fig, update, frames=len(steps), interval=10000, repeat=True)\n",
    "\n",
    "ani.save('100_nodes.gif', writer=matplotlib.animation.PillowWriter(fps=5))\n",
    "\n",
    "plt.show()"
   ]
  },
  {
   "cell_type": "code",
   "execution_count": 384,
   "metadata": {},
   "outputs": [],
   "source": [
    "from collections import Counter\n",
    "import numpy as np\n",
    "from matplotlib import pyplot as plt \n",
    "import scipy.stats as stats\n",
    "import networkx as nx\n"
   ]
  },
  {
   "cell_type": "code",
   "execution_count": 331,
   "metadata": {},
   "outputs": [
    {
     "data": {
      "image/png": "[encoded data removed]",
      "text/plain": [
       "<Figure size 648x432 with 1 Axes>"
      ]
     },
     "metadata": {
      "needs_background": "light"
     },
     "output_type": "display_data"
    }
   ],
   "source": [
    "def draw_hist(sample, x, y, mean, std, ax): \n",
    "    ax.hist(sample, density=True, bins=30, label='histogram')\n",
    "    ax.plot(x, y, color='red', label='theoretical dist')\n",
    "    offset = ax.get_ylim()[1]*0.1\n",
    "    ax.vlines(mean, *ax.get_ylim(), color='black', label='mean')\n",
    "    for i in range(1, 4):\n",
    "        ax.arrow(mean, -i*offset, i*std, 0, width=0.01,head_length=std/5, color='green', label=f'{i}σ')\n",
    "        #ax.arrow(mean, -i*offset, -i*var, 0, width=0.01, head_length=var/5, color='green')\n",
    "    _ = ax.legend()\n",
    "fig, ax = plt.subplots(figsize=(9,6))\n",
    "sample = np.random.normal(size=200000)\n",
    "x = np.linspace(min(sample), max(sample), 100)\n",
    "y = stats.norm.pdf(x, 0, 1)\n",
    "draw_hist(sample, x, y, 0, 1, ax)"
   ]
  },
  {
   "cell_type": "code",
   "execution_count": 349,
   "metadata": {},
   "outputs": [],
   "source": [
    "def pareto_rule(x):\n",
    "    counts = Counter(x)\n",
    "    del x\n",
    "    counts = {k: v/sum(counts.values()) for k, v in counts.items()}\n",
    "    #counts = [(k, counts.get(k, 0)) for k in range(1, max(counts)+1)]\n",
    "    counts = Counter(counts).most_common()\n",
    "    \n",
    "    counts = sorted(counts, key=lambda x: -x[1])\n",
    "    #print(counts)\n",
    "    total_probability = 0\n",
    "    counter = 0\n",
    "    for k, probability in counts: \n",
    "        total_probability += probability\n",
    "        counter += 1\n",
    "        if total_probability > 0.8: \n",
    "            break\n",
    "    print(f'There is {round(total_probability, 2)} probability in {round(100*counter/len(counts), 2)}% of randomly generated numbers')\n",
    "    cumulative_probabilities = np.cumsum([count for k, count in counts])\n",
    "    plt.bar(range(len(cumulative_probabilities)), cumulative_probabilities)"
   ]
  },
  {
   "cell_type": "code",
   "execution_count": 351,
   "metadata": {},
   "outputs": [
    {
     "name": "stdout",
     "output_type": "stream",
     "text": [
      "There is 0.87 probability in 14.29% of randomly generated numbers\n"
     ]
    },
    {
     "data": {
      "image/png": "[encoded data removed]",
      "text/plain": [
       "<Figure size 432x288 with 1 Axes>"
      ]
     },
     "metadata": {
      "needs_background": "light"
     },
     "output_type": "display_data"
    }
   ],
   "source": [
    "x = np.random.geometric(0.4, size=1000000)\n",
    "pareto_rule(x)"
   ]
  },
  {
   "cell_type": "code",
   "execution_count": 356,
   "metadata": {},
   "outputs": [],
   "source": [
    "def power_dist(alpha, x, x_min):\n",
    "    return (alpha - 1)/x_min  * (x/x_min)**(-alpha)\n",
    "\n",
    "def power_dist_reversed(alpha, y, x_min):\n",
    "    return ((x_min**(alpha - 1)*alpha - x_min**(alpha - 1))/y)**(1/alpha)\n",
    "\n",
    "def draw_from_power_dist(alpha, x_min, size=(1,)): \n",
    "    x = np.random.uniform(0.01, power_dist(alpha, x_min,x_min), size=size)\n",
    "    return power_dist_reversed(alpha, x, x_min)"
   ]
  },
  {
   "cell_type": "code",
   "execution_count": 357,
   "metadata": {},
   "outputs": [
    {
     "data": {
      "image/png": "[encoded data removed]",
      "text/plain": [
       "<Figure size 648x432 with 1 Axes>"
      ]
     },
     "metadata": {
      "needs_background": "light"
     },
     "output_type": "display_data"
    }
   ],
   "source": [
    "alpha, x_min = 4, 1\n",
    "fig, ax = plt.subplots(figsize=(9,6))\n",
    "sample = draw_from_power_dist(alpha, x_min, size=200000)\n",
    "x = np.linspace(min(sample), max(sample), 100)\n",
    "y = power_dist(alpha, x, x_min)\n",
    "mean = sample.mean()\n",
    "std = sample.std()\n",
    "draw_hist(sample, x, y, mean, std, ax)"
   ]
  },
  {
   "cell_type": "code",
   "execution_count": 382,
   "metadata": {},
   "outputs": [
    {
     "name": "stdout",
     "output_type": "stream",
     "text": [
      "There is 0.8 probability in 5.13% of randomly generated numbers\n"
     ]
    },
    {
     "data": {
      "image/png": "[encoded data removed]",
      "text/plain": [
       "<Figure size 432x288 with 1 Axes>"
      ]
     },
     "metadata": {
      "needs_background": "light"
     },
     "output_type": "display_data"
    }
   ],
   "source": [
    "def pareto_rule(x):\n",
    "    counts = Counter(x)\n",
    "    del x\n",
    "    counts = {k: v/sum(counts.values()) for k, v in counts.items()}\n",
    "    #counts = [(k, counts.get(k, 0)) for k in range(1, max(counts)+1)]\n",
    "    counts = Counter(counts).most_common()\n",
    "    \n",
    "    counts = sorted(counts, key=lambda x: -x[1])\n",
    "    #print(counts)\n",
    "    total_probability = 0\n",
    "    counter = 0\n",
    "    for k, probability in counts: \n",
    "        total_probability += probability\n",
    "        counter += 1\n",
    "        if total_probability > 0.8: \n",
    "            break\n",
    "    print(f'There is {round(total_probability, 2)} probability in {round(100*counter/len(counts), 2)}% of randomly generated numbers')\n",
    "    cumulative_probabilities = np.cumsum([count for k, count in counts])\n",
    "    plt.bar(range(len(cumulative_probabilities)), cumulative_probabilities)\n",
    "\n",
    "x = np.random.zipf(2.1, size=1000)\n",
    "pareto_rule(x)"
   ]
  },
  {
   "cell_type": "code",
   "execution_count": 458,
   "metadata": {},
   "outputs": [],
   "source": [
    "BA = nx.barabasi_albert_graph(1000, 200)\n",
    "ER = nx.erdos_renyi_graph(1000, 0.3)"
   ]
  },
  {
   "cell_type": "code",
   "execution_count": 478,
   "metadata": {},
   "outputs": [
    {
     "data": {
      "image/png": "[encoded data removed]",
      "text/plain": [
       "<Figure size 1296x432 with 2 Axes>"
      ]
     },
     "metadata": {
      "needs_background": "light"
     },
     "output_type": "display_data"
    }
   ],
   "source": [
    "fig, axs = plt.subplots(ncols=2, figsize=(18,6))\n",
    "ba_degree = np.array(list(dict(BA.degree()).values()))\n",
    "er_degree = np.array(list(dict(ER.degree()).values()))\n",
    "\n",
    "axs[0].hist(ba_degree, label='BA', bins=50)\n",
    "axs[0].set_title('BA vertex degree histogram')\n",
    "axs[1].hist(er_degree, label='ER', bins=50)\n",
    "axs[1].set_title('ER vertex degree histogram')\n",
    "\n",
    "None"
   ]
  },
  {
   "cell_type": "code",
   "execution_count": 479,
   "metadata": {},
   "outputs": [],
   "source": [
    "er_mean = np.mean(er_degree)\n",
    "ba_mean = np.mean(ba_degree)\n",
    "er_var = np.var(er_degree)\n",
    "ba_var = np.var(ba_degree)"
   ]
  },
  {
   "cell_type": "code",
   "execution_count": 480,
   "metadata": {},
   "outputs": [
    {
     "data": {
      "text/plain": [
       "(299.634, 205.822044)"
      ]
     },
     "execution_count": 480,
     "metadata": {},
     "output_type": "execute_result"
    }
   ],
   "source": [
    "er_mean, er_var"
   ]
  },
  {
   "cell_type": "code",
   "execution_count": 481,
   "metadata": {},
   "outputs": [
    {
     "data": {
      "text/plain": [
       "(320.0, 15114.86)"
      ]
     },
     "execution_count": 481,
     "metadata": {},
     "output_type": "execute_result"
    }
   ],
   "source": [
    "ba_mean, ba_var"
   ]
  }
 ],
 "metadata": {
  "kernelspec": {
   "display_name": "Python 3",
   "language": "python",
   "name": "python3"
  }
 },
 "nbformat": 4,
 "nbformat_minor": 4
}
